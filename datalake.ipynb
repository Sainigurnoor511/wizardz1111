{
 "cells": [
  {
   "cell_type": "code",
   "execution_count": 4,
   "metadata": {},
   "outputs": [],
   "source": [
    "import psycopg2\n",
    "import pandas as pd\n",
    "from pyspark.sql import SparkSession"
   ]
  },
  {
   "cell_type": "code",
   "execution_count": 5,
   "metadata": {},
   "outputs": [],
   "source": [
    "db_params = {\n",
    "    \"host\": \"arjuna.db.elephantsql.com\",\n",
    "    \"dbname\": \"hvfunzhl\",\n",
    "    \"user\": \"hvfunzhl\",\n",
    "    \"password\": \"Rfc9Qacy89gxakiFcEvSyEqi-Mdw5p51\",\n",
    "    \"port\": \"5432\"\n",
    "}\n",
    "\n",
    "conn = psycopg2.connect(**db_params)\n",
    "cur = conn.cursor()"
   ]
  },
  {
   "cell_type": "code",
   "execution_count": 13,
   "metadata": {},
   "outputs": [
    {
     "ename": "AttributeError",
     "evalue": "'Builder' object has no attribute 'getorCreate'",
     "output_type": "error",
     "traceback": [
      "\u001b[1;31m---------------------------------------------------------------------------\u001b[0m",
      "\u001b[1;31mAttributeError\u001b[0m                            Traceback (most recent call last)",
      "Cell \u001b[1;32mIn[13], line 1\u001b[0m\n\u001b[1;32m----> 1\u001b[0m spark \u001b[38;5;241m=\u001b[39m \u001b[43mSparkSession\u001b[49m\u001b[38;5;241;43m.\u001b[39;49m\u001b[43mbuilder\u001b[49m\u001b[38;5;241;43m.\u001b[39;49m\u001b[43mappName\u001b[49m\u001b[43m(\u001b[49m\u001b[38;5;124;43m\"\u001b[39;49m\u001b[38;5;124;43mE-com Data Lake\u001b[39;49m\u001b[38;5;124;43m\"\u001b[39;49m\u001b[43m)\u001b[49m\u001b[38;5;241;43m.\u001b[39;49m\u001b[43mgetorCreate\u001b[49m([ ])\n",
      "\u001b[1;31mAttributeError\u001b[0m: 'Builder' object has no attribute 'getorCreate'"
     ]
    }
   ],
   "source": [
    "spark = SparkSession.builder.appName(\"E-com Data Lake\").getorCreate([ ])"
   ]
  },
  {
   "cell_type": "code",
   "execution_count": 9,
   "metadata": {},
   "outputs": [],
   "source": [
    "def fetch_table_as_df(table_name):\n",
    "    cur.execute(f\"SELECT * FROM {table_name}\")\n",
    "    columns = [desc[0] for desc in cur.description]\n",
    "    # Define the schema explicitly\n",
    "    schema = StructType([\n",
    "        StructField(col_name, StringType(), nullable=True) for col_name in columns\n",
    "    ])\n",
    "    data = cur.fetchall()\n",
    "    return spark.createDataFrame(data, schema)"
   ]
  },
  {
   "cell_type": "code",
   "execution_count": null,
   "metadata": {},
   "outputs": [],
   "source": [
    "def create_datalake(spark_df,table_name):\n",
    "    spark_df.write.parquet(path = \"{table_name}.parquet\", mode=\"\")"
   ]
  },
  {
   "cell_type": "code",
   "execution_count": null,
   "metadata": {},
   "outputs": [],
   "source": [
    "table_name = [\"employees\",\"orders\",\"order_details\",\"customers\",\"territories\"]"
   ]
  },
  {
   "cell_type": "code",
   "execution_count": null,
   "metadata": {},
   "outputs": [],
   "source": [
    "for tab_name in table names:\n",
    "    df = fetch_table_as_df(tab_name)\n",
    "    create_datalake(df,tab_name)"
   ]
  }
 ],
 "metadata": {
  "kernelspec": {
   "display_name": "Python 3",
   "language": "python",
   "name": "python3"
  },
  "language_info": {
   "codemirror_mode": {
    "name": "ipython",
    "version": 3
   },
   "file_extension": ".py",
   "mimetype": "text/x-python",
   "name": "python",
   "nbconvert_exporter": "python",
   "pygments_lexer": "ipython3",
   "version": "3.11.5"
  }
 },
 "nbformat": 4,
 "nbformat_minor": 2
}

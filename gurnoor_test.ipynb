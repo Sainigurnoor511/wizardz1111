{
 "cells": [
  {
   "cell_type": "markdown",
   "metadata": {},
   "source": [
    "# postgres://xvkthvsk:     A8fHdGRB4O0vvx2t_YygQHv1mG4qYAQg      @arjuna.db.elephantsql.com /xvkthvsk"
   ]
  },
  {
   "cell_type": "code",
   "execution_count": 21,
   "metadata": {},
   "outputs": [],
   "source": [
    "import psycopg2\n",
    "\n",
    "db_params = {\n",
    "\n",
    "    \"port\" : \"5432\",\n",
    "    \"host\" : \"arjuna.db.elephantsql.com\",\n",
    "    \"user\" : \"xvkthvsk\",\n",
    "    \"password\" : \"A8fHdGRB4O0vvx2t_YygQHv1mG4qYAQg\",\n",
    "    \"database\": \"xvkthvsk\"\n",
    "}\n",
    "\n",
    "connection = psycopg2.connect(**db_params)"
   ]
  },
  {
   "cell_type": "code",
   "execution_count": 22,
   "metadata": {},
   "outputs": [],
   "source": [
    "import pandas as pd"
   ]
  },
  {
   "cell_type": "code",
   "execution_count": 23,
   "metadata": {},
   "outputs": [
    {
     "name": "stderr",
     "output_type": "stream",
     "text": [
      "C:\\Users\\saini\\AppData\\Local\\Temp\\ipykernel_16556\\1193557626.py:2: UserWarning: pandas only supports SQLAlchemy connectable (engine/connection) or database string URI or sqlite3 DBAPI2 connection. Other DBAPI2 objects are not tested. Please consider using SQLAlchemy.\n",
      "  orders = pd.read_sql_query(orders_query,connection)\n"
     ]
    }
   ],
   "source": [
    "orders_query = \"\"\"select * from orders\"\"\"\n",
    "orders = pd.read_sql_query(orders_query,connection)"
   ]
  }
 ],
 "metadata": {
  "kernelspec": {
   "display_name": "Python 3",
   "language": "python",
   "name": "python3"
  },
  "language_info": {
   "codemirror_mode": {
    "name": "ipython",
    "version": 3
   },
   "file_extension": ".py",
   "mimetype": "text/x-python",
   "name": "python",
   "nbconvert_exporter": "python",
   "pygments_lexer": "ipython3",
   "version": "3.11.5"
  }
 },
 "nbformat": 4,
 "nbformat_minor": 2
}
